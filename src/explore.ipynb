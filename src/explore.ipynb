{
    "cells": [
        {
            "cell_type": "markdown",
            "metadata": {},
            "source": [
                "# RNSA Breast Cancer Detector:"
            ]
        },
        {
            "cell_type": "markdown",
            "metadata": {},
            "source": [
                "- ¿Que vamos a utlizar?"
            ]
        },
        {
            "cell_type": "markdown",
            "metadata": {},
            "source": [
                "- Librerias"
            ]
        },
        {
            "cell_type": "code",
            "execution_count": 8,
            "metadata": {},
            "outputs": [],
            "source": [
                "# Librerias\n",
                "\n",
                "import pandas as pd\n"
            ]
        },
        {
            "cell_type": "markdown",
            "metadata": {},
            "source": [
                "- Carga de datos"
            ]
        },
        {
            "cell_type": "code",
            "execution_count": null,
            "metadata": {},
            "outputs": [
                {
                    "name": "stdout",
                    "output_type": "stream",
                    "text": [
                        "Loading data...\n",
                        "==========\n",
                        "\n",
                        "· Train data loaded\n",
                        "· Train data is loaded\n",
                        "· Submission data is loaded\n",
                        "==========\n",
                        "\n",
                        "...Data loaded succesfully\n"
                    ]
                }
            ],
            "source": [
                "#Vamos a crear un bloque de comprobación para asegurar que los datos se cargan sin problema.\n",
                "\n",
                "def GetData():\n",
                "    print(\"Loading data...\\n==========\\n\")\n",
                "    try:\n",
                "        data_train = pd.read_csv(\"../data/raw/train.csv\")\n",
                "        print(\"· Train data loaded\")\n",
                "    except Exception as e:\n",
                "        print(f\"· Train data is not loaded: Exception {e}\\n==========\\n\")\n",
                "    \n",
                "    try:\n",
                "        data_test = pd.read_csv(\"../data/raw/test.csv\")\n",
                "        print(\"· Train data is loaded\")\n",
                "    except Exception as e:\n",
                "        print(f\"· Test data is not loaded: Exception {e}\\n==========\\n\")\n",
                "\n",
                "    try:\n",
                "        data_submision = pd.read_csv(\"../data/raw/sample_submission.csv\")\n",
                "        print(\"· Submission data is loaded\\n==========\\n\")\n",
                "    \n",
                "    except Exception as e:\n",
                "        print(f\"· Submission data is not loaded: Exception {e}\\n==========\\n\")\n",
                "\n",
                "    return data_train, data_test, data_submision\n",
                "\n",
                "#Desempaquetamos los Datasets si se han cargado correctamente.\n",
                "try:\n",
                "    dataTrain, dataTest, dataSub = GetData()\n",
                "    print(\"...Data loaded succesfully\")\n",
                "except Exception as e:\n",
                "    print(f\"Error: {e}\")"
            ]
        }
    ],
    "metadata": {
        "kernelspec": {
            "display_name": "tf",
            "language": "python",
            "name": "python3"
        },
        "language_info": {
            "codemirror_mode": {
                "name": "ipython",
                "version": 3
            },
            "file_extension": ".py",
            "mimetype": "text/x-python",
            "name": "python",
            "nbconvert_exporter": "python",
            "pygments_lexer": "ipython3",
            "version": "3.12.9"
        },
        "orig_nbformat": 4
    },
    "nbformat": 4,
    "nbformat_minor": 2
}
