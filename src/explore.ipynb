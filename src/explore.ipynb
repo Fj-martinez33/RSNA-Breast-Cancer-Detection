{
    "cells": [
        {
            "cell_type": "markdown",
            "metadata": {},
            "source": [
                "# RNSA Breast Cancer Detector:"
            ]
        },
        {
            "cell_type": "markdown",
            "metadata": {},
            "source": [
                "- ¿Que vamos a utlizar?"
            ]
        },
        {
            "cell_type": "markdown",
            "metadata": {},
            "source": [
                "- Librerias"
            ]
        },
        {
            "cell_type": "code",
            "execution_count": 99,
            "metadata": {},
            "outputs": [],
            "source": [
                "# Librerias\n",
                "\n",
                "import pandas as pd\n"
            ]
        },
        {
            "cell_type": "markdown",
            "metadata": {},
            "source": [
                "- Carga de datos"
            ]
        },
        {
            "cell_type": "code",
            "execution_count": 117,
            "metadata": {},
            "outputs": [
                {
                    "name": "stdout",
                    "output_type": "stream",
                    "text": [
                        "Loading data...\n",
                        "==========\n",
                        "\n",
                        "· Train data loaded\n",
                        "· Train data is loaded\n",
                        "· Submission data is loaded\n",
                        "==========\n",
                        "\n",
                        "...Data loaded succesfully\n"
                    ]
                }
            ],
            "source": [
                "#Vamos a crear un bloque de comprobación para asegurar que los datos se cargan sin problema.\n",
                "\n",
                "def GetData():\n",
                "    print(\"Loading data...\\n==========\\n\")\n",
                "    try:\n",
                "        data_train = pd.read_csv(\"../data/raw/train.csv\")\n",
                "        print(\"· Train data loaded\")\n",
                "    except Exception as e:\n",
                "        print(f\"· Train data is not loaded: Exception {e}\\n==========\\n\")\n",
                "    \n",
                "    try:\n",
                "        data_test = pd.read_csv(\"../data/raw/test.csv\")\n",
                "        print(\"· Train data is loaded\")\n",
                "    except Exception as e:\n",
                "        print(f\"· Test data is not loaded: Exception {e}\\n==========\\n\")\n",
                "\n",
                "    try:\n",
                "        data_submision = pd.read_csv(\"../data/raw/sample_submission.csv\")\n",
                "        print(\"· Submission data is loaded\\n==========\\n\")\n",
                "    \n",
                "    except Exception as e:\n",
                "        print(f\"· Submission data is not loaded: Exception {e}\\n==========\\n\")\n",
                "\n",
                "    return data_train, data_test, data_submision\n",
                "\n",
                "#Desempaquetamos los Datasets si se han cargado correctamente.\n",
                "try:\n",
                "    dataTrain, dataTest, dataSub = GetData()\n",
                "    print(\"...Data loaded succesfully\")\n",
                "except Exception as e:\n",
                "    print(f\"Error: {e}\")"
            ]
        },
        {
            "cell_type": "markdown",
            "metadata": {},
            "source": [
                "- Una vez cargado los datos vamos a analizar los Datasets."
            ]
        },
        {
            "cell_type": "code",
            "execution_count": 118,
            "metadata": {},
            "outputs": [
                {
                    "name": "stdout",
                    "output_type": "stream",
                    "text": [
                        "Data Dimensions: (54706, 14)\n",
                        "\n",
                        "Non NaN values in Dataset\n"
                    ]
                },
                {
                    "name": "stderr",
                    "output_type": "stream",
                    "text": [
                        "/tmp/ipykernel_516/3923148241.py:6: UserWarning: Boolean Series key will be reindexed to match DataFrame index.\n",
                        "  data_nan = dataset[nan_filter > 0]\n"
                    ]
                }
            ],
            "source": [
                "def DataAnalysis(dataset):\n",
                "    print(f\"Data Dimensions: {dataset.shape}\\n\")\n",
                "    \n",
                "    try:\n",
                "        nan_filter = dataset.isna().sum()\n",
                "        data_nan = dataset[nan_filter > 0]\n",
                "\n",
                "        for col, n in data_nan.items():\n",
                "            print(f\"Column {col}: {n} NaN values\")\n",
                "    except:\n",
                "        print(\"Non NaN values in Dataset\")\n",
                "\n",
                "DataAnalysis(dataTrain)"
            ]
        },
        {
            "cell_type": "code",
            "execution_count": 49,
            "metadata": {},
            "outputs": [
                {
                    "data": {
                        "text/html": [
                            "<div>\n",
                            "<style scoped>\n",
                            "    .dataframe tbody tr th:only-of-type {\n",
                            "        vertical-align: middle;\n",
                            "    }\n",
                            "\n",
                            "    .dataframe tbody tr th {\n",
                            "        vertical-align: top;\n",
                            "    }\n",
                            "\n",
                            "    .dataframe thead th {\n",
                            "        text-align: right;\n",
                            "    }\n",
                            "</style>\n",
                            "<table border=\"1\" class=\"dataframe\">\n",
                            "  <thead>\n",
                            "    <tr style=\"text-align: right;\">\n",
                            "      <th></th>\n",
                            "      <th>site_id</th>\n",
                            "      <th>patient_id</th>\n",
                            "      <th>image_id</th>\n",
                            "      <th>laterality</th>\n",
                            "      <th>view</th>\n",
                            "      <th>age</th>\n",
                            "      <th>implant</th>\n",
                            "      <th>machine_id</th>\n",
                            "      <th>prediction_id</th>\n",
                            "    </tr>\n",
                            "  </thead>\n",
                            "  <tbody>\n",
                            "    <tr>\n",
                            "      <th>0</th>\n",
                            "      <td>2</td>\n",
                            "      <td>10008</td>\n",
                            "      <td>736471439</td>\n",
                            "      <td>L</td>\n",
                            "      <td>MLO</td>\n",
                            "      <td>81</td>\n",
                            "      <td>0</td>\n",
                            "      <td>21</td>\n",
                            "      <td>10008_L</td>\n",
                            "    </tr>\n",
                            "    <tr>\n",
                            "      <th>1</th>\n",
                            "      <td>2</td>\n",
                            "      <td>10008</td>\n",
                            "      <td>1591370361</td>\n",
                            "      <td>L</td>\n",
                            "      <td>CC</td>\n",
                            "      <td>81</td>\n",
                            "      <td>0</td>\n",
                            "      <td>21</td>\n",
                            "      <td>10008_L</td>\n",
                            "    </tr>\n",
                            "    <tr>\n",
                            "      <th>2</th>\n",
                            "      <td>2</td>\n",
                            "      <td>10008</td>\n",
                            "      <td>68070693</td>\n",
                            "      <td>R</td>\n",
                            "      <td>MLO</td>\n",
                            "      <td>81</td>\n",
                            "      <td>0</td>\n",
                            "      <td>21</td>\n",
                            "      <td>10008_R</td>\n",
                            "    </tr>\n",
                            "    <tr>\n",
                            "      <th>3</th>\n",
                            "      <td>2</td>\n",
                            "      <td>10008</td>\n",
                            "      <td>361203119</td>\n",
                            "      <td>R</td>\n",
                            "      <td>CC</td>\n",
                            "      <td>81</td>\n",
                            "      <td>0</td>\n",
                            "      <td>21</td>\n",
                            "      <td>10008_R</td>\n",
                            "    </tr>\n",
                            "  </tbody>\n",
                            "</table>\n",
                            "</div>"
                        ],
                        "text/plain": [
                            "   site_id  patient_id    image_id laterality view  age  implant  machine_id  \\\n",
                            "0        2       10008   736471439          L  MLO   81        0          21   \n",
                            "1        2       10008  1591370361          L   CC   81        0          21   \n",
                            "2        2       10008    68070693          R  MLO   81        0          21   \n",
                            "3        2       10008   361203119          R   CC   81        0          21   \n",
                            "\n",
                            "  prediction_id  \n",
                            "0       10008_L  \n",
                            "1       10008_L  \n",
                            "2       10008_R  \n",
                            "3       10008_R  "
                        ]
                    },
                    "execution_count": 49,
                    "metadata": {},
                    "output_type": "execute_result"
                }
            ],
            "source": [
                "dataTest.head()"
            ]
        },
        {
            "cell_type": "code",
            "execution_count": 50,
            "metadata": {},
            "outputs": [
                {
                    "data": {
                        "text/html": [
                            "<div>\n",
                            "<style scoped>\n",
                            "    .dataframe tbody tr th:only-of-type {\n",
                            "        vertical-align: middle;\n",
                            "    }\n",
                            "\n",
                            "    .dataframe tbody tr th {\n",
                            "        vertical-align: top;\n",
                            "    }\n",
                            "\n",
                            "    .dataframe thead th {\n",
                            "        text-align: right;\n",
                            "    }\n",
                            "</style>\n",
                            "<table border=\"1\" class=\"dataframe\">\n",
                            "  <thead>\n",
                            "    <tr style=\"text-align: right;\">\n",
                            "      <th></th>\n",
                            "      <th>prediction_id</th>\n",
                            "      <th>cancer</th>\n",
                            "    </tr>\n",
                            "  </thead>\n",
                            "  <tbody>\n",
                            "    <tr>\n",
                            "      <th>0</th>\n",
                            "      <td>10008_L</td>\n",
                            "      <td>0.021168</td>\n",
                            "    </tr>\n",
                            "    <tr>\n",
                            "      <th>1</th>\n",
                            "      <td>10008_R</td>\n",
                            "      <td>0.021168</td>\n",
                            "    </tr>\n",
                            "  </tbody>\n",
                            "</table>\n",
                            "</div>"
                        ],
                        "text/plain": [
                            "  prediction_id    cancer\n",
                            "0       10008_L  0.021168\n",
                            "1       10008_R  0.021168"
                        ]
                    },
                    "execution_count": 50,
                    "metadata": {},
                    "output_type": "execute_result"
                }
            ],
            "source": [
                "dataSub.head()"
            ]
        }
    ],
    "metadata": {
        "kernelspec": {
            "display_name": "tf",
            "language": "python",
            "name": "python3"
        },
        "language_info": {
            "codemirror_mode": {
                "name": "ipython",
                "version": 3
            },
            "file_extension": ".py",
            "mimetype": "text/x-python",
            "name": "python",
            "nbconvert_exporter": "python",
            "pygments_lexer": "ipython3",
            "version": "3.12.9"
        },
        "orig_nbformat": 4
    },
    "nbformat": 4,
    "nbformat_minor": 2
}
