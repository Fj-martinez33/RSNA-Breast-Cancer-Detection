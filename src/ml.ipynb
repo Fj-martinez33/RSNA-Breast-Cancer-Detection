{
 "cells": [
  {
   "cell_type": "markdown",
   "metadata": {},
   "source": [
    "# **RNSA Breast Cancer Detector.**\n",
    "\n",
    "## ML:"
   ]
  },
  {
   "cell_type": "markdown",
   "metadata": {},
   "source": [
    "**Librerias**"
   ]
  },
  {
   "cell_type": "code",
   "execution_count": 22,
   "metadata": {},
   "outputs": [],
   "source": [
    "#Librerias\n",
    "\n",
    "import pandas as pd\n",
    "import tensorflow as tf\n",
    "import pydicom\n",
    "from pathlib import Path\n",
    "\n",
    "#Constantes\n",
    "IMGFOLDER_PATH = \"../data/raw/train_images\"\n"
   ]
  },
  {
   "cell_type": "code",
   "execution_count": 31,
   "metadata": {},
   "outputs": [
    {
     "name": "stdout",
     "output_type": "stream",
     "text": [
      "Reading Dataset...\n",
      "==========\n",
      "\n",
      "   patient_id    image_id   age  cancer  biopsy  invasive  BIRADS  implant  \\\n",
      "0       10006   462822612  61.0       0       0         0     4.0        0   \n",
      "1       10006  1459541791  61.0       0       0         0     4.0        0   \n",
      "2       10006  1864590858  61.0       0       0         0     4.0        0   \n",
      "3       10006  1874946579  61.0       0       0         0     4.0        0   \n",
      "4       10011   220375232  55.0       0       0         0     0.0        0   \n",
      "\n",
      "   density  laterality  view  \n",
      "0      2.0         0.0   0.0  \n",
      "1      2.0         0.0   1.0  \n",
      "2      2.0         1.0   1.0  \n",
      "3      2.0         1.0   0.0  \n",
      "4      1.0         0.0   0.0  \n",
      "\n",
      " · Successfully data readed\n"
     ]
    }
   ],
   "source": [
    "def ReadData():\n",
    "    print(\"Reading Dataset...\\n==========\\n\")\n",
    "\n",
    "    try:\n",
    "        data = pd.read_csv(\"../data/processed/clean_data.csv\")\n",
    "        print(f\"{data.head(5)}\\n\\n · Successfully data readed\")\n",
    "    except Exception as e:\n",
    "        print(f\"...Failed data readed. Error: {e}\")\n",
    "    \n",
    "    return data\n",
    "\n",
    "data = ReadData()"
   ]
  }
 ],
 "metadata": {
  "kernelspec": {
   "display_name": "tf",
   "language": "python",
   "name": "python3"
  },
  "language_info": {
   "codemirror_mode": {
    "name": "ipython",
    "version": 3
   },
   "file_extension": ".py",
   "mimetype": "text/x-python",
   "name": "python",
   "nbconvert_exporter": "python",
   "pygments_lexer": "ipython3",
   "version": "3.9.21"
  }
 },
 "nbformat": 4,
 "nbformat_minor": 2
}
