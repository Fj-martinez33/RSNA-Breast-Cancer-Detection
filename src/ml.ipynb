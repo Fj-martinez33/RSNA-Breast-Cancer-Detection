{
 "cells": [
  {
   "cell_type": "markdown",
   "metadata": {},
   "source": [
    "# **RNSA Breast Cancer Detector.**\n",
    "\n",
    "## ML:"
   ]
  },
  {
   "cell_type": "markdown",
   "metadata": {},
   "source": [
    "**Librerias**"
   ]
  },
  {
   "cell_type": "code",
   "execution_count": 22,
   "metadata": {},
   "outputs": [],
   "source": [
    "#Librerias\n",
    "\n",
    "import pandas as pd\n",
    "import tensorflow as tf\n",
    "import pydicom\n",
    "from pathlib import Path\n",
    "\n",
    "#Constantes\n",
    "IMGFOLDER_PATH = \"../data/raw/train_images\"\n"
   ]
  },
  {
   "cell_type": "code",
   "execution_count": 34,
   "metadata": {},
   "outputs": [
    {
     "name": "stdout",
     "output_type": "stream",
     "text": [
      "Reading Dataset...\n",
      "==========\n",
      "\n",
      "   patient_id    image_id   age  cancer  biopsy  invasive  BIRADS  implant  \\\n",
      "0       10006   462822612  61.0       0       0         0     4.0        0   \n",
      "1       10006  1459541791  61.0       0       0         0     4.0        0   \n",
      "2       10006  1864590858  61.0       0       0         0     4.0        0   \n",
      "3       10006  1874946579  61.0       0       0         0     4.0        0   \n",
      "4       10011   220375232  55.0       0       0         0     0.0        0   \n",
      "\n",
      "   density  laterality  view  \n",
      "0      2.0         0.0   0.0  \n",
      "1      2.0         0.0   1.0  \n",
      "2      2.0         1.0   1.0  \n",
      "3      2.0         1.0   0.0  \n",
      "4      1.0         0.0   0.0  \n",
      "\n",
      " · Successfully data readed\n"
     ]
    }
   ],
   "source": [
    "def ReadData():\n",
    "    print(\"Reading Dataset...\\n==========\\n\")\n",
    "\n",
    "    try:\n",
    "        data = pd.read_csv(\"../data/processed/clean_data.csv\")\n",
    "        print(f\"{data.head(5)}\\n\\n · Successfully data readed\")\n",
    "        return data\n",
    "    except Exception as e:\n",
    "        print(f\"...Failed data readed. Error: {e}\")\n",
    "        return None\n",
    "\n",
    "data = ReadData()"
   ]
  },
  {
   "cell_type": "code",
   "execution_count": 57,
   "metadata": {},
   "outputs": [],
   "source": [
    "def GetPaths(root, dataset):\n",
    "\n",
    "    #Creamos una lista con el Path de las imagenes.\n",
    "\n",
    "    root = Path(root) # conversion Str -> Path\n",
    "    list_path = list(root.rglob(\"*.dcm\")) # lista de paths\n",
    "\n",
    "    #Mapeamos\n",
    "    map_label = {}\n",
    "\n",
    "    for p in list_path:\n",
    "        patient_id = p.parts[-2] # -> folder del paciente donde están las imagenes.\n",
    "        img_id = p.stem # -> la imagen en cuestion.\n",
    "\n",
    "        try:    \n",
    "            filter = dataset[(dataset[\"patient_id\"].astype(str) == patient_id) & (dataset[\"image_id\"].astype(str) == img_id)] #Importante convertir los valores del dataset en str para la comparacion.\n",
    "\n",
    "            if not filter.empty:\n",
    "                target = int(filter[\"cancer\"].values[0]) # -> tomamos el valor del target.\n",
    "                map_label[p] = target\n",
    "            else:\n",
    "                print(\"No coincidences in dataset.\")\n",
    "        except Exception as e:\n",
    "            print(f\"Error: {e} in row {p}.\")\n",
    "\n",
    "    return map_label\n",
    "\n",
    "\n",
    "\n",
    "mappingIMG = GetPaths(IMGFOLDER_PATH, data)"
   ]
  }
 ],
 "metadata": {
  "kernelspec": {
   "display_name": "tf",
   "language": "python",
   "name": "python3"
  },
  "language_info": {
   "codemirror_mode": {
    "name": "ipython",
    "version": 3
   },
   "file_extension": ".py",
   "mimetype": "text/x-python",
   "name": "python",
   "nbconvert_exporter": "python",
   "pygments_lexer": "ipython3",
   "version": "3.9.21"
  }
 },
 "nbformat": 4,
 "nbformat_minor": 2
}
